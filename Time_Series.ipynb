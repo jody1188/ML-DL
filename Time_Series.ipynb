{
 "cells": [
  {
   "cell_type": "markdown",
   "metadata": {},
   "source": [
    "# Time Series"
   ]
  },
  {
   "cell_type": "markdown",
   "metadata": {},
   "source": [
    "## Box - Jenkins Method"
   ]
  },
  {
   "cell_type": "markdown",
   "metadata": {},
   "source": [
    "### Load Data"
   ]
  },
  {
   "cell_type": "code",
   "execution_count": 19,
   "metadata": {},
   "outputs": [
    {
     "data": {
      "text/html": [
       "<div>\n",
       "<style scoped>\n",
       "    .dataframe tbody tr th:only-of-type {\n",
       "        vertical-align: middle;\n",
       "    }\n",
       "\n",
       "    .dataframe tbody tr th {\n",
       "        vertical-align: top;\n",
       "    }\n",
       "\n",
       "    .dataframe thead th {\n",
       "        text-align: right;\n",
       "    }\n",
       "</style>\n",
       "<table border=\"1\" class=\"dataframe\">\n",
       "  <thead>\n",
       "    <tr style=\"text-align: right;\">\n",
       "      <th></th>\n",
       "      <th>age</th>\n",
       "    </tr>\n",
       "    <tr>\n",
       "      <th>date</th>\n",
       "      <th></th>\n",
       "    </tr>\n",
       "  </thead>\n",
       "  <tbody>\n",
       "    <tr>\n",
       "      <th>1981-01-01</th>\n",
       "      <td>60</td>\n",
       "    </tr>\n",
       "    <tr>\n",
       "      <th>1982-01-01</th>\n",
       "      <td>43</td>\n",
       "    </tr>\n",
       "    <tr>\n",
       "      <th>1983-01-01</th>\n",
       "      <td>67</td>\n",
       "    </tr>\n",
       "    <tr>\n",
       "      <th>1984-01-01</th>\n",
       "      <td>50</td>\n",
       "    </tr>\n",
       "    <tr>\n",
       "      <th>1985-01-01</th>\n",
       "      <td>56</td>\n",
       "    </tr>\n",
       "  </tbody>\n",
       "</table>\n",
       "</div>"
      ],
      "text/plain": [
       "            age\n",
       "date           \n",
       "1981-01-01   60\n",
       "1982-01-01   43\n",
       "1983-01-01   67\n",
       "1984-01-01   50\n",
       "1985-01-01   56"
      ]
     },
     "execution_count": 19,
     "metadata": {},
     "output_type": "execute_result"
    }
   ],
   "source": [
    "import pandas as pd\n",
    "import matplotlib.pyplot as plt\n",
    "import warnings; warnings.filterwarnings(\"ignore\")\n",
    "\n",
    "data = pd.read_csv('kingage_with_date.csv', index_col = 0)\n",
    "data.head()"
   ]
  },
  {
   "cell_type": "code",
   "execution_count": 2,
   "metadata": {},
   "outputs": [
    {
     "data": {
      "text/html": [
       "<div>\n",
       "<style scoped>\n",
       "    .dataframe tbody tr th:only-of-type {\n",
       "        vertical-align: middle;\n",
       "    }\n",
       "\n",
       "    .dataframe tbody tr th {\n",
       "        vertical-align: top;\n",
       "    }\n",
       "\n",
       "    .dataframe thead th {\n",
       "        text-align: right;\n",
       "    }\n",
       "</style>\n",
       "<table border=\"1\" class=\"dataframe\">\n",
       "  <thead>\n",
       "    <tr style=\"text-align: right;\">\n",
       "      <th></th>\n",
       "      <th>age</th>\n",
       "    </tr>\n",
       "    <tr>\n",
       "      <th>date</th>\n",
       "      <th></th>\n",
       "    </tr>\n",
       "  </thead>\n",
       "  <tbody>\n",
       "    <tr>\n",
       "      <th>1981-01-01</th>\n",
       "      <td>60</td>\n",
       "    </tr>\n",
       "    <tr>\n",
       "      <th>1982-01-01</th>\n",
       "      <td>43</td>\n",
       "    </tr>\n",
       "    <tr>\n",
       "      <th>1983-01-01</th>\n",
       "      <td>67</td>\n",
       "    </tr>\n",
       "    <tr>\n",
       "      <th>1984-01-01</th>\n",
       "      <td>50</td>\n",
       "    </tr>\n",
       "    <tr>\n",
       "      <th>1985-01-01</th>\n",
       "      <td>56</td>\n",
       "    </tr>\n",
       "    <tr>\n",
       "      <th>1986-01-01</th>\n",
       "      <td>42</td>\n",
       "    </tr>\n",
       "    <tr>\n",
       "      <th>1987-01-01</th>\n",
       "      <td>50</td>\n",
       "    </tr>\n",
       "    <tr>\n",
       "      <th>1988-01-01</th>\n",
       "      <td>65</td>\n",
       "    </tr>\n",
       "    <tr>\n",
       "      <th>1989-01-01</th>\n",
       "      <td>68</td>\n",
       "    </tr>\n",
       "    <tr>\n",
       "      <th>1990-01-01</th>\n",
       "      <td>43</td>\n",
       "    </tr>\n",
       "    <tr>\n",
       "      <th>1991-01-01</th>\n",
       "      <td>65</td>\n",
       "    </tr>\n",
       "    <tr>\n",
       "      <th>1992-01-01</th>\n",
       "      <td>34</td>\n",
       "    </tr>\n",
       "    <tr>\n",
       "      <th>1993-01-01</th>\n",
       "      <td>47</td>\n",
       "    </tr>\n",
       "    <tr>\n",
       "      <th>1994-01-01</th>\n",
       "      <td>34</td>\n",
       "    </tr>\n",
       "    <tr>\n",
       "      <th>1995-01-01</th>\n",
       "      <td>49</td>\n",
       "    </tr>\n",
       "    <tr>\n",
       "      <th>1996-01-01</th>\n",
       "      <td>41</td>\n",
       "    </tr>\n",
       "    <tr>\n",
       "      <th>1997-01-01</th>\n",
       "      <td>13</td>\n",
       "    </tr>\n",
       "    <tr>\n",
       "      <th>1998-01-01</th>\n",
       "      <td>35</td>\n",
       "    </tr>\n",
       "    <tr>\n",
       "      <th>1999-01-01</th>\n",
       "      <td>53</td>\n",
       "    </tr>\n",
       "    <tr>\n",
       "      <th>2000-01-01</th>\n",
       "      <td>56</td>\n",
       "    </tr>\n",
       "    <tr>\n",
       "      <th>2001-01-01</th>\n",
       "      <td>16</td>\n",
       "    </tr>\n",
       "    <tr>\n",
       "      <th>2002-01-01</th>\n",
       "      <td>43</td>\n",
       "    </tr>\n",
       "    <tr>\n",
       "      <th>2003-01-01</th>\n",
       "      <td>69</td>\n",
       "    </tr>\n",
       "    <tr>\n",
       "      <th>2004-01-01</th>\n",
       "      <td>59</td>\n",
       "    </tr>\n",
       "    <tr>\n",
       "      <th>2005-01-01</th>\n",
       "      <td>48</td>\n",
       "    </tr>\n",
       "    <tr>\n",
       "      <th>2006-01-01</th>\n",
       "      <td>59</td>\n",
       "    </tr>\n",
       "    <tr>\n",
       "      <th>2007-01-01</th>\n",
       "      <td>86</td>\n",
       "    </tr>\n",
       "    <tr>\n",
       "      <th>2008-01-01</th>\n",
       "      <td>55</td>\n",
       "    </tr>\n",
       "    <tr>\n",
       "      <th>2009-01-01</th>\n",
       "      <td>68</td>\n",
       "    </tr>\n",
       "    <tr>\n",
       "      <th>2010-01-01</th>\n",
       "      <td>51</td>\n",
       "    </tr>\n",
       "    <tr>\n",
       "      <th>2011-01-01</th>\n",
       "      <td>33</td>\n",
       "    </tr>\n",
       "    <tr>\n",
       "      <th>2012-01-01</th>\n",
       "      <td>49</td>\n",
       "    </tr>\n",
       "    <tr>\n",
       "      <th>2013-01-01</th>\n",
       "      <td>67</td>\n",
       "    </tr>\n",
       "    <tr>\n",
       "      <th>2014-01-01</th>\n",
       "      <td>77</td>\n",
       "    </tr>\n",
       "    <tr>\n",
       "      <th>2015-01-01</th>\n",
       "      <td>81</td>\n",
       "    </tr>\n",
       "    <tr>\n",
       "      <th>2016-01-01</th>\n",
       "      <td>67</td>\n",
       "    </tr>\n",
       "    <tr>\n",
       "      <th>2017-01-01</th>\n",
       "      <td>71</td>\n",
       "    </tr>\n",
       "    <tr>\n",
       "      <th>2018-01-01</th>\n",
       "      <td>81</td>\n",
       "    </tr>\n",
       "    <tr>\n",
       "      <th>2019-01-01</th>\n",
       "      <td>68</td>\n",
       "    </tr>\n",
       "    <tr>\n",
       "      <th>2020-01-01</th>\n",
       "      <td>70</td>\n",
       "    </tr>\n",
       "    <tr>\n",
       "      <th>2021-01-01</th>\n",
       "      <td>77</td>\n",
       "    </tr>\n",
       "    <tr>\n",
       "      <th>2022-01-01</th>\n",
       "      <td>56</td>\n",
       "    </tr>\n",
       "  </tbody>\n",
       "</table>\n",
       "</div>"
      ],
      "text/plain": [
       "            age\n",
       "date           \n",
       "1981-01-01   60\n",
       "1982-01-01   43\n",
       "1983-01-01   67\n",
       "1984-01-01   50\n",
       "1985-01-01   56\n",
       "1986-01-01   42\n",
       "1987-01-01   50\n",
       "1988-01-01   65\n",
       "1989-01-01   68\n",
       "1990-01-01   43\n",
       "1991-01-01   65\n",
       "1992-01-01   34\n",
       "1993-01-01   47\n",
       "1994-01-01   34\n",
       "1995-01-01   49\n",
       "1996-01-01   41\n",
       "1997-01-01   13\n",
       "1998-01-01   35\n",
       "1999-01-01   53\n",
       "2000-01-01   56\n",
       "2001-01-01   16\n",
       "2002-01-01   43\n",
       "2003-01-01   69\n",
       "2004-01-01   59\n",
       "2005-01-01   48\n",
       "2006-01-01   59\n",
       "2007-01-01   86\n",
       "2008-01-01   55\n",
       "2009-01-01   68\n",
       "2010-01-01   51\n",
       "2011-01-01   33\n",
       "2012-01-01   49\n",
       "2013-01-01   67\n",
       "2014-01-01   77\n",
       "2015-01-01   81\n",
       "2016-01-01   67\n",
       "2017-01-01   71\n",
       "2018-01-01   81\n",
       "2019-01-01   68\n",
       "2020-01-01   70\n",
       "2021-01-01   77\n",
       "2022-01-01   56"
      ]
     },
     "execution_count": 2,
     "metadata": {},
     "output_type": "execute_result"
    }
   ],
   "source": [
    "data"
   ]
  },
  {
   "cell_type": "code",
   "execution_count": 3,
   "metadata": {},
   "outputs": [
    {
     "name": "stdout",
     "output_type": "stream",
     "text": [
      "<class 'pandas.core.frame.DataFrame'>\n",
      "Index: 42 entries, 1981-01-01 to 2022-01-01\n",
      "Data columns (total 1 columns):\n",
      " #   Column  Non-Null Count  Dtype\n",
      "---  ------  --------------  -----\n",
      " 0   age     42 non-null     int64\n",
      "dtypes: int64(1)\n",
      "memory usage: 672.0+ bytes\n"
     ]
    }
   ],
   "source": [
    "data.info()"
   ]
  },
  {
   "cell_type": "markdown",
   "metadata": {},
   "source": [
    "- 결측치는 없음."
   ]
  },
  {
   "cell_type": "markdown",
   "metadata": {},
   "source": [
    "## 1. Indentification of Models"
   ]
  },
  {
   "cell_type": "code",
   "execution_count": 4,
   "metadata": {},
   "outputs": [
    {
     "data": {
      "image/png": "[encoded data removed]",
      "text/plain": [
       "<Figure size 432x216 with 1 Axes>"
      ]
     },
     "metadata": {
      "needs_background": "light"
     },
     "output_type": "display_data"
    },
    {
     "data": {
      "image/png": "[encoded data removed]",
      "text/plain": [
       "<Figure size 432x216 with 1 Axes>"
      ]
     },
     "metadata": {
      "needs_background": "light"
     },
     "output_type": "display_data"
    }
   ],
   "source": [
    "fig, ax = plt.subplots(figsize = (6,3))\n",
    "data.plot(ax = ax)\n",
    "plt.show()\n",
    "\n",
    "fig, ax = plt.subplots(figsize = (6,3))\n",
    "data.hist(ax = ax)\n",
    "plt.show()"
   ]
  },
  {
   "cell_type": "markdown",
   "metadata": {},
   "source": [
    "- 추세 및 계절성이 보임"
   ]
  },
  {
   "cell_type": "markdown",
   "metadata": {},
   "source": [
    "#### Seasonal Decomposition for seasonal Time Series"
   ]
  },
  {
   "cell_type": "code",
   "execution_count": 5,
   "metadata": {},
   "outputs": [
    {
     "data": {
      "image/png": "[encoded data removed]",
      "text/plain": [
       "<Figure size 864x864 with 3 Axes>"
      ]
     },
     "metadata": {
      "needs_background": "light"
     },
     "output_type": "display_data"
    }
   ],
   "source": [
    "from statsmodels.tsa.seasonal import seasonal_decompose\n",
    "\n",
    "decomp = seasonal_decompose(data, period = 12)\n",
    "\n",
    "fig, (ax1, ax2, ax3) = plt.subplots(3,1, figsize = (12,12))\n",
    "decomp.trend.plot(ax=ax1)\n",
    "ax1.set_title('trend')\n",
    "decomp.resid.plot(ax=ax2)\n",
    "ax1.set_title('resid')\n",
    "decomp.seasonal.plot(ax=ax3)\n",
    "ax1.set_title('seasonal')\n",
    "plt.show()"
   ]
  },
  {
   "cell_type": "markdown",
   "metadata": {},
   "source": [
    "- 계절성을 보이는것을 확인할 수 있음."
   ]
  },
  {
   "cell_type": "code",
   "execution_count": 6,
   "metadata": {},
   "outputs": [],
   "source": [
    "data_df = data.diff(12)\n",
    "data_df = data_df.dropna()"
   ]
  },
  {
   "cell_type": "markdown",
   "metadata": {},
   "source": [
    "#### Auto Correlation\n",
    "\n",
    "##### ACF\n",
    "- 자기상관함수\n",
    "- 시차 k에 대하여 관측치 간 상관계수 함수\n",
    "\n",
    "\n",
    "##### PCAF\n",
    "- 편 자기상관함수\n",
    "- 시차 k에 대해서 $Z_t$와 $Z_t+k$ 사이에 있는 관측치와의 상호 의존성을 제거한 함수\n",
    "- 순수한 상관관계 파악 가능"
   ]
  },
  {
   "cell_type": "code",
   "execution_count": 7,
   "metadata": {},
   "outputs": [
    {
     "data": {
      "image/png": "[encoded data removed]",
      "text/plain": [
       "<Figure size 1008x432 with 2 Axes>"
      ]
     },
     "metadata": {
      "needs_background": "light"
     },
     "output_type": "display_data"
    }
   ],
   "source": [
    "from statsmodels.graphics.tsaplots import plot_acf, plot_pacf\n",
    "\n",
    "fig, (ax1, ax2) = plt.subplots(nrows = 2, ncols = 1, figsize = (14,6), sharex = False, sharey = False)\n",
    "ax1 = plot_acf(data_df, lags = 10, ax = ax1)\n",
    "ax2 = plot_pacf(data_df, lags = 10, ax = ax2)\n",
    "plt.show()"
   ]
  },
  {
   "cell_type": "markdown",
   "metadata": {},
   "source": [
    "- ACF와 PACF 그래프를 확인해본 결과 이 data는 stationary 하지 않음.\n",
    "- Dickey-Fuller test를 통해 확인."
   ]
  },
  {
   "cell_type": "markdown",
   "metadata": {},
   "source": [
    "#### Dickey - Fuller\n",
    "\n",
    "- Dickey - Fuller 검정은 ARIMA 모형의 적분 차수를 판단하기 위한 검정 방법\n",
    "- 만약 p-value 값이 임계치보다 낮으면 가설을 기각하고 data가 stationary\n",
    "- 만약 p-value 값이 임계치보다 높으면 가설을 채택하고 data가 non-stationary"
   ]
  },
  {
   "cell_type": "code",
   "execution_count": 8,
   "metadata": {},
   "outputs": [
    {
     "name": "stdout",
     "output_type": "stream",
     "text": [
      "ADF Statistic : -4.090230\n",
      "p-value : 0.001005\n",
      "Critical Test Statistics Values : \n",
      "\t1%: -3.601\n",
      "\t5%: -2.935\n",
      "\t10%: -2.606\n"
     ]
    }
   ],
   "source": [
    "from statsmodels.tsa.stattools import adfuller\n",
    "\n",
    "result = adfuller(data['age'])\n",
    "print('ADF Statistic : %f'%result[0])\n",
    "print('p-value : %f'%result[1])\n",
    "print('Critical Test Statistics Values : ')\n",
    "for key, value in result[4].items():\n",
    "     print('\\t%s: %.3f'%(key, value))"
   ]
  },
  {
   "cell_type": "markdown",
   "metadata": {},
   "source": [
    "- p-value가 0.05보다 낮으므로 stationary한 data, 가설 기각."
   ]
  },
  {
   "cell_type": "markdown",
   "metadata": {},
   "source": [
    "## 2. Estimate Parameter "
   ]
  },
  {
   "cell_type": "code",
   "execution_count": 10,
   "metadata": {},
   "outputs": [
    {
     "name": "stdout",
     "output_type": "stream",
     "text": [
      "Performing stepwise search to minimize aic\n",
      " ARIMA(0,1,0)(1,1,1)[12]             : AIC=271.273, Time=0.13 sec\n",
      " ARIMA(0,1,0)(0,1,0)[12]             : AIC=277.925, Time=0.01 sec\n",
      " ARIMA(1,1,0)(1,1,0)[12]             : AIC=268.030, Time=0.09 sec\n",
      " ARIMA(0,1,1)(0,1,1)[12]             : AIC=inf, Time=0.18 sec\n",
      " ARIMA(1,1,0)(0,1,0)[12]             : AIC=276.943, Time=0.02 sec\n",
      " ARIMA(1,1,0)(2,1,0)[12]             : AIC=269.727, Time=0.24 sec\n",
      " ARIMA(1,1,0)(1,1,1)[12]             : AIC=269.726, Time=0.25 sec\n",
      " ARIMA(1,1,0)(0,1,1)[12]             : AIC=inf, Time=0.16 sec\n",
      " ARIMA(1,1,0)(2,1,1)[12]             : AIC=271.726, Time=0.27 sec\n",
      " ARIMA(0,1,0)(1,1,0)[12]             : AIC=269.364, Time=0.07 sec\n",
      " ARIMA(2,1,0)(1,1,0)[12]             : AIC=265.703, Time=0.13 sec\n",
      " ARIMA(2,1,0)(0,1,0)[12]             : AIC=274.037, Time=0.06 sec\n",
      " ARIMA(2,1,0)(2,1,0)[12]             : AIC=267.508, Time=0.37 sec\n",
      " ARIMA(2,1,0)(1,1,1)[12]             : AIC=267.528, Time=0.36 sec\n",
      " ARIMA(2,1,0)(0,1,1)[12]             : AIC=inf, Time=0.22 sec\n",
      " ARIMA(2,1,0)(2,1,1)[12]             : AIC=269.518, Time=0.79 sec\n",
      " ARIMA(2,1,1)(1,1,0)[12]             : AIC=inf, Time=0.31 sec\n",
      " ARIMA(1,1,1)(1,1,0)[12]             : AIC=inf, Time=0.17 sec\n",
      " ARIMA(2,1,0)(1,1,0)[12] intercept   : AIC=265.703, Time=0.13 sec\n",
      "\n",
      "Best model:  ARIMA(2,1,0)(1,1,0)[12]          \n",
      "Total fit time: 3.966 seconds\n",
      "                                     SARIMAX Results                                      \n",
      "==========================================================================================\n",
      "Dep. Variable:                                  y   No. Observations:                   42\n",
      "Model:             SARIMAX(2, 1, 0)x(1, 1, 0, 12)   Log Likelihood                -127.851\n",
      "Date:                            Mon, 28 Feb 2022   AIC                            265.703\n",
      "Time:                                    14:37:13   BIC                            272.539\n",
      "Sample:                                         0   HQIC                           267.844\n",
      "                                             - 42                                         \n",
      "Covariance Type:                              opg                                         \n",
      "==============================================================================\n",
      "                 coef    std err          z      P>|z|      [0.025      0.975]\n",
      "------------------------------------------------------------------------------\n",
      "intercept      2.9104      4.628      0.629      0.529      -6.161      11.981\n",
      "ar.L1         -0.4600      0.204     -2.258      0.024      -0.859      -0.061\n",
      "ar.L2         -0.3834      0.205     -1.875      0.061      -0.784       0.017\n",
      "ar.S.L12      -0.6743      0.168     -4.010      0.000      -1.004      -0.345\n",
      "sigma2       303.0335    128.652      2.355      0.019      50.880     555.187\n",
      "===================================================================================\n",
      "Ljung-Box (L1) (Q):                   0.57   Jarque-Bera (JB):                 1.18\n",
      "Prob(Q):                              0.45   Prob(JB):                         0.55\n",
      "Heteroskedasticity (H):               1.06   Skew:                            -0.35\n",
      "Prob(H) (two-sided):                  0.93   Kurtosis:                         2.31\n",
      "===================================================================================\n",
      "\n",
      "Warnings:\n",
      "[1] Covariance matrix calculated using the outer product of gradients (complex-step).\n"
     ]
    }
   ],
   "source": [
    "from pmdarima.arima import auto_arima\n",
    "\n",
    "model = auto_arima(data['age'], d=1, D=1,seasonal=True, m=12, trend='c',start_p=0, start_q=0, max_order=6,max_p = 2, max_q = 2, test='adf', stepwise=True, trace=True)\n",
    "print(model.summary())"
   ]
  },
  {
   "cell_type": "markdown",
   "metadata": {},
   "source": [
    "- AIC score는 ARIMA(2,1,0)(1,1,0)[12]에서 가장 작게 나옴"
   ]
  },
  {
   "cell_type": "markdown",
   "metadata": {},
   "source": [
    "## 3. Modeling"
   ]
  },
  {
   "cell_type": "code",
   "execution_count": 14,
   "metadata": {},
   "outputs": [
    {
     "name": "stdout",
     "output_type": "stream",
     "text": [
      "RUNNING THE L-BFGS-B CODE\n",
      "\n",
      "           * * *\n",
      "\n",
      "Machine precision = 2.220D-16\n",
      " N =            4     M =           10\n",
      "\n",
      "At X0         0 variables are exactly at the bounds\n",
      "\n",
      "At iterate    0    f=  1.55916D+00    |proj g|=  2.47268D-02\n",
      "\n",
      "At iterate    5    f=  1.55250D+00    |proj g|=  2.45275D-02\n",
      "\n",
      "At iterate   10    f=  1.51885D+00    |proj g|=  2.26803D-02\n",
      "\n",
      "At iterate   15    f=  1.51795D+00    |proj g|=  2.59452D-06\n",
      "\n",
      "           * * *\n",
      "\n",
      "Tit   = total number of iterations\n",
      "Tnf   = total number of function evaluations\n",
      "Tnint = total number of segments explored during Cauchy searches\n",
      "Skip  = number of BFGS updates skipped\n",
      "Nact  = number of active bounds at final generalized Cauchy point\n",
      "Projg = norm of the final projected gradient\n",
      "F     = final function value\n",
      "\n",
      "           * * *\n",
      "\n",
      "   N    Tit     Tnf  Tnint  Skip  Nact     Projg        F\n",
      "    4     15     18      1     0     0   2.595D-06   1.518D+00\n",
      "  F =   1.5179529245719874     \n",
      "\n",
      "CONVERGENCE: NORM_OF_PROJECTED_GRADIENT_<=_PGTOL            \n",
      "                                     SARIMAX Results                                      \n",
      "==========================================================================================\n",
      "Dep. Variable:                                age   No. Observations:                   42\n",
      "Model:             SARIMAX(2, 1, 0)x(1, 1, 0, 12)   Log Likelihood                 -63.754\n",
      "Date:                            Mon, 28 Feb 2022   AIC                            135.508\n",
      "Time:                                    14:38:00   BIC                            138.340\n",
      "Sample:                                01-01-1981   HQIC                           135.478\n",
      "                                     - 01-01-2022                                         \n",
      "Covariance Type:                              opg                                         \n",
      "==============================================================================\n",
      "                 coef    std err          z      P>|z|      [0.025      0.975]\n",
      "------------------------------------------------------------------------------\n",
      "ar.L1         -0.3371      0.259     -1.303      0.193      -0.844       0.170\n",
      "ar.L2         -0.5342      0.311     -1.720      0.085      -1.143       0.074\n",
      "ar.S.L12      -0.5900      0.203     -2.911      0.004      -0.987      -0.193\n",
      "sigma2       287.9129    177.382      1.623      0.105     -59.750     635.576\n",
      "===================================================================================\n",
      "Ljung-Box (L1) (Q):                   0.09   Jarque-Bera (JB):                 0.97\n",
      "Prob(Q):                              0.76   Prob(JB):                         0.61\n",
      "Heteroskedasticity (H):               0.96   Skew:                            -0.20\n",
      "Prob(H) (two-sided):                  0.97   Kurtosis:                         1.82\n",
      "===================================================================================\n",
      "\n",
      "Warnings:\n",
      "[1] Covariance matrix calculated using the outer product of gradients (complex-step).\n"
     ]
    },
    {
     "name": "stderr",
     "output_type": "stream",
     "text": [
      "/Users/jody/opt/anaconda3/lib/python3.8/site-packages/statsmodels/tsa/base/tsa_model.py:471: ValueWarning: No frequency information was provided, so inferred frequency AS-JAN will be used.\n",
      "  self._init_dates(dates, freq)\n",
      "/Users/jody/opt/anaconda3/lib/python3.8/site-packages/statsmodels/tsa/base/tsa_model.py:471: ValueWarning: No frequency information was provided, so inferred frequency AS-JAN will be used.\n",
      "  self._init_dates(dates, freq)\n",
      " This problem is unconstrained.\n"
     ]
    }
   ],
   "source": [
    "from statsmodels.tsa.statespace.sarimax import SARIMAX\n",
    "\n",
    "model = SARIMAX(data ,order = (2,1,0), seasonal_order=(1,1,0,12), enforce_invertibility= False, enforce_stationarity = False)\n",
    "result = model.fit()\n",
    "print(result.summary())"
   ]
  },
  {
   "cell_type": "markdown",
   "metadata": {},
   "source": [
    "- p-value가 0.05보다 작아서 유의미."
   ]
  },
  {
   "cell_type": "markdown",
   "metadata": {},
   "source": [
    "### 4. Forecast & Metrics"
   ]
  },
  {
   "cell_type": "markdown",
   "metadata": {},
   "source": [
    "#### Forecast"
   ]
  },
  {
   "cell_type": "code",
   "execution_count": 68,
   "metadata": {},
   "outputs": [
    {
     "data": {
      "text/html": [
       "<div>\n",
       "<style scoped>\n",
       "    .dataframe tbody tr th:only-of-type {\n",
       "        vertical-align: middle;\n",
       "    }\n",
       "\n",
       "    .dataframe tbody tr th {\n",
       "        vertical-align: top;\n",
       "    }\n",
       "\n",
       "    .dataframe thead th {\n",
       "        text-align: right;\n",
       "    }\n",
       "</style>\n",
       "<table border=\"1\" class=\"dataframe\">\n",
       "  <thead>\n",
       "    <tr style=\"text-align: right;\">\n",
       "      <th>age</th>\n",
       "      <th>mean</th>\n",
       "      <th>mean_se</th>\n",
       "      <th>mean_ci_lower</th>\n",
       "      <th>mean_ci_upper</th>\n",
       "    </tr>\n",
       "  </thead>\n",
       "  <tbody>\n",
       "    <tr>\n",
       "      <th>2023-01-01</th>\n",
       "      <td>58.629330</td>\n",
       "      <td>16.967996</td>\n",
       "      <td>25.372669</td>\n",
       "      <td>91.885991</td>\n",
       "    </tr>\n",
       "    <tr>\n",
       "      <th>2024-01-01</th>\n",
       "      <td>81.595719</td>\n",
       "      <td>20.357180</td>\n",
       "      <td>41.696379</td>\n",
       "      <td>121.495059</td>\n",
       "    </tr>\n",
       "    <tr>\n",
       "      <th>2025-01-01</th>\n",
       "      <td>60.765982</td>\n",
       "      <td>20.768128</td>\n",
       "      <td>20.061199</td>\n",
       "      <td>101.470766</td>\n",
       "    </tr>\n",
       "    <tr>\n",
       "      <th>2026-01-01</th>\n",
       "      <td>74.530465</td>\n",
       "      <td>22.868351</td>\n",
       "      <td>29.709320</td>\n",
       "      <td>119.351609</td>\n",
       "    </tr>\n",
       "    <tr>\n",
       "      <th>2027-01-01</th>\n",
       "      <td>96.085466</td>\n",
       "      <td>25.616969</td>\n",
       "      <td>45.877130</td>\n",
       "      <td>146.293802</td>\n",
       "    </tr>\n",
       "    <tr>\n",
       "      <th>2028-01-01</th>\n",
       "      <td>86.250980</td>\n",
       "      <td>26.825640</td>\n",
       "      <td>33.673692</td>\n",
       "      <td>138.828269</td>\n",
       "    </tr>\n",
       "    <tr>\n",
       "      <th>2029-01-01</th>\n",
       "      <td>78.348042</td>\n",
       "      <td>28.026620</td>\n",
       "      <td>23.416877</td>\n",
       "      <td>133.279208</td>\n",
       "    </tr>\n",
       "    <tr>\n",
       "      <th>2030-01-01</th>\n",
       "      <td>89.002685</td>\n",
       "      <td>29.749888</td>\n",
       "      <td>30.693976</td>\n",
       "      <td>147.311395</td>\n",
       "    </tr>\n",
       "    <tr>\n",
       "      <th>2031-01-01</th>\n",
       "      <td>101.212934</td>\n",
       "      <td>31.160024</td>\n",
       "      <td>40.140409</td>\n",
       "      <td>162.285459</td>\n",
       "    </tr>\n",
       "    <tr>\n",
       "      <th>2032-01-01</th>\n",
       "      <td>83.164902</td>\n",
       "      <td>32.301892</td>\n",
       "      <td>19.854358</td>\n",
       "      <td>146.475446</td>\n",
       "    </tr>\n",
       "    <tr>\n",
       "      <th>2033-01-01</th>\n",
       "      <td>93.040042</td>\n",
       "      <td>33.571948</td>\n",
       "      <td>27.240233</td>\n",
       "      <td>158.839851</td>\n",
       "    </tr>\n",
       "    <tr>\n",
       "      <th>2034-01-01</th>\n",
       "      <td>74.932633</td>\n",
       "      <td>34.846002</td>\n",
       "      <td>6.635724</td>\n",
       "      <td>143.229543</td>\n",
       "    </tr>\n",
       "    <tr>\n",
       "      <th>2035-01-01</th>\n",
       "      <td>65.565778</td>\n",
       "      <td>38.297997</td>\n",
       "      <td>-9.496916</td>\n",
       "      <td>140.628472</td>\n",
       "    </tr>\n",
       "    <tr>\n",
       "      <th>2036-01-01</th>\n",
       "      <td>84.078046</td>\n",
       "      <td>40.634110</td>\n",
       "      <td>4.436654</td>\n",
       "      <td>163.719439</td>\n",
       "    </tr>\n",
       "    <tr>\n",
       "      <th>2037-01-01</th>\n",
       "      <td>86.181077</td>\n",
       "      <td>42.059560</td>\n",
       "      <td>3.745854</td>\n",
       "      <td>168.616299</td>\n",
       "    </tr>\n",
       "    <tr>\n",
       "      <th>2038-01-01</th>\n",
       "      <td>97.900618</td>\n",
       "      <td>44.025559</td>\n",
       "      <td>11.612108</td>\n",
       "      <td>184.189127</td>\n",
       "    </tr>\n",
       "    <tr>\n",
       "      <th>2039-01-01</th>\n",
       "      <td>109.026451</td>\n",
       "      <td>46.119217</td>\n",
       "      <td>18.634446</td>\n",
       "      <td>199.418456</td>\n",
       "    </tr>\n",
       "  </tbody>\n",
       "</table>\n",
       "</div>"
      ],
      "text/plain": [
       "age               mean    mean_se  mean_ci_lower  mean_ci_upper\n",
       "2023-01-01   58.629330  16.967996      25.372669      91.885991\n",
       "2024-01-01   81.595719  20.357180      41.696379     121.495059\n",
       "2025-01-01   60.765982  20.768128      20.061199     101.470766\n",
       "2026-01-01   74.530465  22.868351      29.709320     119.351609\n",
       "2027-01-01   96.085466  25.616969      45.877130     146.293802\n",
       "2028-01-01   86.250980  26.825640      33.673692     138.828269\n",
       "2029-01-01   78.348042  28.026620      23.416877     133.279208\n",
       "2030-01-01   89.002685  29.749888      30.693976     147.311395\n",
       "2031-01-01  101.212934  31.160024      40.140409     162.285459\n",
       "2032-01-01   83.164902  32.301892      19.854358     146.475446\n",
       "2033-01-01   93.040042  33.571948      27.240233     158.839851\n",
       "2034-01-01   74.932633  34.846002       6.635724     143.229543\n",
       "2035-01-01   65.565778  38.297997      -9.496916     140.628472\n",
       "2036-01-01   84.078046  40.634110       4.436654     163.719439\n",
       "2037-01-01   86.181077  42.059560       3.745854     168.616299\n",
       "2038-01-01   97.900618  44.025559      11.612108     184.189127\n",
       "2039-01-01  109.026451  46.119217      18.634446     199.418456"
      ]
     },
     "execution_count": 68,
     "metadata": {},
     "output_type": "execute_result"
    }
   ],
   "source": [
    "forecast_value = result.get_forecast(steps = 17)\n",
    "forecast_ci = forecast_value.conf_int()\n",
    "forecast_value.summary_frame()"
   ]
  },
  {
   "cell_type": "code",
   "execution_count": 72,
   "metadata": {},
   "outputs": [
    {
     "data": {
      "text/plain": [
       "<AxesSubplot:xlabel='date'>"
      ]
     },
     "execution_count": 72,
     "metadata": {},
     "output_type": "execute_result"
    },
    {
     "data": {
      "image/png": "[encoded data removed]",
      "text/plain": [
       "<Figure size 432x288 with 1 Axes>"
      ]
     },
     "metadata": {
      "needs_background": "light"
     },
     "output_type": "display_data"
    }
   ],
   "source": [
    "data.plot()\n",
    "forecast_value.predicted_mean.plot()"
   ]
  },
  {
   "cell_type": "code",
   "execution_count": null,
   "metadata": {},
   "outputs": [],
   "source": []
  }
 ],
 "metadata": {
  "kernelspec": {
   "display_name": "Python 3 (ipykernel)",
   "language": "python",
   "name": "python3"
  },
  "language_info": {
   "codemirror_mode": {
    "name": "ipython",
    "version": 3
   },
   "file_extension": ".py",
   "mimetype": "text/x-python",
   "name": "python",
   "nbconvert_exporter": "python",
   "pygments_lexer": "ipython3",
   "version": "3.8.12"
  }
 },
 "nbformat": 4,
 "nbformat_minor": 4
}
