{
 "cells": [
  {
   "cell_type": "markdown",
   "id": "9ad88f3e",
   "metadata": {},
   "source": [
    "## Multiclass SVM "
   ]
  },
  {
   "cell_type": "markdown",
   "id": "c5ca64e5",
   "metadata": {},
   "source": [
    "### Import Module"
   ]
  },
  {
   "cell_type": "code",
   "execution_count": 1,
   "id": "1ee53277",
   "metadata": {},
   "outputs": [],
   "source": [
    "import numpy as np\n",
    "import pandas as pd\n",
    "import matplotlib.pyplot as plt\n",
    "import seaborn as sns\n",
    "from sklearn.svm import SVC\n",
    "from sklearn.model_selection import train_test_split\n",
    "from sklearn.pipeline import Pipeline\n",
    "from sklearn.preprocessing import StandardScaler\n",
    "from sklearn.metrics import accuracy_score"
   ]
  },
  {
   "cell_type": "markdown",
   "id": "31cf7012",
   "metadata": {},
   "source": [
    "### Load Data"
   ]
  },
  {
   "cell_type": "code",
   "execution_count": 2,
   "id": "ace3c747",
   "metadata": {},
   "outputs": [
    {
     "name": "stdout",
     "output_type": "stream",
     "text": [
      "0         setosa\n",
      "1         setosa\n",
      "2         setosa\n",
      "3         setosa\n",
      "4         setosa\n",
      "         ...    \n",
      "145    virginica\n",
      "146    virginica\n",
      "147    virginica\n",
      "148    virginica\n",
      "149    virginica\n",
      "Name: species, Length: 150, dtype: object\n"
     ]
    }
   ],
   "source": [
    "iris =  sns.load_dataset('iris') \n",
    "X= iris.iloc[:,:4]\n",
    "y = iris.iloc[:,-1]\n",
    "print(y)"
   ]
  },
  {
   "cell_type": "markdown",
   "id": "8143b416",
   "metadata": {},
   "source": [
    "#### Scaling "
   ]
  },
  {
   "cell_type": "code",
   "execution_count": 3,
   "id": "479b84bf",
   "metadata": {},
   "outputs": [],
   "source": [
    "scal = StandardScaler()\n",
    "\n",
    "X = scal.fit_transform(X)"
   ]
  },
  {
   "cell_type": "code",
   "execution_count": 4,
   "id": "d34456cb",
   "metadata": {},
   "outputs": [
    {
     "data": {
      "text/plain": [
       "setosa        50\n",
       "versicolor    50\n",
       "virginica     50\n",
       "Name: species, dtype: int64"
      ]
     },
     "execution_count": 4,
     "metadata": {},
     "output_type": "execute_result"
    }
   ],
   "source": [
    "y.value_counts()"
   ]
  },
  {
   "cell_type": "markdown",
   "id": "e18da1a5",
   "metadata": {},
   "source": [
    "### One vs Rest\n",
    "\n",
    "- setosa or not\n",
    "- veriscolor or not\n",
    "- virginica or not"
   ]
  },
  {
   "cell_type": "code",
   "execution_count": 5,
   "id": "c97b6828",
   "metadata": {},
   "outputs": [],
   "source": [
    "svm_1_ovr = SVC(kernel = 'rbf', C = 5, gamma = 5)\n",
    "svm_2_ovr = SVC(kernel = 'rbf', C = 5, gamma = 5)\n",
    "svm_3_ovr = SVC(kernel = 'rbf', C = 5, gamma = 5)"
   ]
  },
  {
   "cell_type": "markdown",
   "id": "5d4b879e",
   "metadata": {},
   "source": [
    "#### Split Data"
   ]
  },
  {
   "cell_type": "code",
   "execution_count": 6,
   "id": "0cfcef30",
   "metadata": {},
   "outputs": [],
   "source": [
    "X_train, X_test, y_train, y_test = train_test_split(X, y, test_size = 0.2, random_state = 1212)"
   ]
  },
  {
   "cell_type": "markdown",
   "id": "dc579fe4",
   "metadata": {},
   "source": [
    "#### Encoding Target"
   ]
  },
  {
   "cell_type": "code",
   "execution_count": 7,
   "id": "3b4050a1",
   "metadata": {},
   "outputs": [],
   "source": [
    "y_train = pd.get_dummies(y_train)"
   ]
  },
  {
   "cell_type": "code",
   "execution_count": 8,
   "id": "77bc9052",
   "metadata": {},
   "outputs": [
    {
     "data": {
      "text/html": [
       "<div>\n",
       "<style scoped>\n",
       "    .dataframe tbody tr th:only-of-type {\n",
       "        vertical-align: middle;\n",
       "    }\n",
       "\n",
       "    .dataframe tbody tr th {\n",
       "        vertical-align: top;\n",
       "    }\n",
       "\n",
       "    .dataframe thead th {\n",
       "        text-align: right;\n",
       "    }\n",
       "</style>\n",
       "<table border=\"1\" class=\"dataframe\">\n",
       "  <thead>\n",
       "    <tr style=\"text-align: right;\">\n",
       "      <th></th>\n",
       "      <th>setosa</th>\n",
       "      <th>versicolor</th>\n",
       "      <th>virginica</th>\n",
       "    </tr>\n",
       "  </thead>\n",
       "  <tbody>\n",
       "    <tr>\n",
       "      <th>1</th>\n",
       "      <td>1</td>\n",
       "      <td>0</td>\n",
       "      <td>0</td>\n",
       "    </tr>\n",
       "    <tr>\n",
       "      <th>13</th>\n",
       "      <td>1</td>\n",
       "      <td>0</td>\n",
       "      <td>0</td>\n",
       "    </tr>\n",
       "    <tr>\n",
       "      <th>53</th>\n",
       "      <td>0</td>\n",
       "      <td>1</td>\n",
       "      <td>0</td>\n",
       "    </tr>\n",
       "    <tr>\n",
       "      <th>4</th>\n",
       "      <td>1</td>\n",
       "      <td>0</td>\n",
       "      <td>0</td>\n",
       "    </tr>\n",
       "    <tr>\n",
       "      <th>126</th>\n",
       "      <td>0</td>\n",
       "      <td>0</td>\n",
       "      <td>1</td>\n",
       "    </tr>\n",
       "    <tr>\n",
       "      <th>...</th>\n",
       "      <td>...</td>\n",
       "      <td>...</td>\n",
       "      <td>...</td>\n",
       "    </tr>\n",
       "    <tr>\n",
       "      <th>105</th>\n",
       "      <td>0</td>\n",
       "      <td>0</td>\n",
       "      <td>1</td>\n",
       "    </tr>\n",
       "    <tr>\n",
       "      <th>141</th>\n",
       "      <td>0</td>\n",
       "      <td>0</td>\n",
       "      <td>1</td>\n",
       "    </tr>\n",
       "    <tr>\n",
       "      <th>101</th>\n",
       "      <td>0</td>\n",
       "      <td>0</td>\n",
       "      <td>1</td>\n",
       "    </tr>\n",
       "    <tr>\n",
       "      <th>66</th>\n",
       "      <td>0</td>\n",
       "      <td>1</td>\n",
       "      <td>0</td>\n",
       "    </tr>\n",
       "    <tr>\n",
       "      <th>136</th>\n",
       "      <td>0</td>\n",
       "      <td>0</td>\n",
       "      <td>1</td>\n",
       "    </tr>\n",
       "  </tbody>\n",
       "</table>\n",
       "<p>120 rows × 3 columns</p>\n",
       "</div>"
      ],
      "text/plain": [
       "     setosa  versicolor  virginica\n",
       "1         1           0          0\n",
       "13        1           0          0\n",
       "53        0           1          0\n",
       "4         1           0          0\n",
       "126       0           0          1\n",
       "..      ...         ...        ...\n",
       "105       0           0          1\n",
       "141       0           0          1\n",
       "101       0           0          1\n",
       "66        0           1          0\n",
       "136       0           0          1\n",
       "\n",
       "[120 rows x 3 columns]"
      ]
     },
     "execution_count": 8,
     "metadata": {},
     "output_type": "execute_result"
    }
   ],
   "source": [
    "y_train"
   ]
  },
  {
   "cell_type": "markdown",
   "id": "98c048a5",
   "metadata": {},
   "source": [
    "#### Training Data"
   ]
  },
  {
   "cell_type": "code",
   "execution_count": 9,
   "id": "d030243f",
   "metadata": {},
   "outputs": [
    {
     "data": {
      "text/plain": [
       "SVC(C=5, gamma=5)"
      ]
     },
     "execution_count": 9,
     "metadata": {},
     "output_type": "execute_result"
    }
   ],
   "source": [
    "svm_1_ovr.fit(X_train, y_train.iloc[:,0])\n",
    "svm_2_ovr.fit(X_train, y_train.iloc[:,1])\n",
    "svm_3_ovr.fit(X_train, y_train.iloc[:,2])"
   ]
  },
  {
   "cell_type": "code",
   "execution_count": 10,
   "id": "42d87dd2",
   "metadata": {},
   "outputs": [
    {
     "name": "stdout",
     "output_type": "stream",
     "text": [
      "prediction : \n",
      " ['setosa', 'versicolor', 'setosa', 'setosa', 'virginica', 'virginica', 'virginica', 'setosa', 'versicolor', 'versicolor', 'setosa', 'virginica', 'setosa', 'virginica', 'virginica', 'versicolor', 'versicolor', 'setosa', 'virginica', 'setosa', 'versicolor', 'setosa', 'setosa', 'versicolor', 'versicolor', 'setosa', 'virginica', 'setosa', 'versicolor', 'versicolor']\n"
     ]
    },
    {
     "data": {
      "text/plain": [
       "0.9333333333333333"
      ]
     },
     "execution_count": 10,
     "metadata": {},
     "output_type": "execute_result"
    }
   ],
   "source": [
    "def one_rest_svm(models, data, labels): \n",
    "    distance = None \n",
    "    \n",
    "    for model in models: \n",
    "        if distance is None:\n",
    "            distance = model.decision_function(data) \n",
    "        else:\n",
    "            distance = np.vstack((distance, model.decision_function(data))) \n",
    "            \n",
    "    distance = distance.T\n",
    "    \n",
    "    result = [] \n",
    "    \n",
    "    for pred in distance:\n",
    "        result.append(labels[pred.argmax()])\n",
    "\n",
    "    \n",
    "    print(f\"prediction : \\n {result}\")\n",
    "    return result\n",
    "\n",
    "models = [svm_1_ovr, svm_2_ovr, svm_3_ovr]\n",
    "labels = [\"setosa\", \"versicolor\", \"virginica\"]\n",
    "\n",
    "preds = one_rest_svm(models, X_test, labels)\n",
    "\n",
    "accuracy_score(y_test, preds)"
   ]
  },
  {
   "cell_type": "markdown",
   "id": "725584ae",
   "metadata": {},
   "source": [
    "- 0.9333.. 으로 잘 예측\n"
   ]
  },
  {
   "cell_type": "markdown",
   "id": "0a1dd18a",
   "metadata": {},
   "source": [
    "### One vs One\n",
    "\n",
    "- versicolor / virginica\n",
    "- setosa / virginica\n",
    "- setosa / versicolor "
   ]
  },
  {
   "cell_type": "markdown",
   "id": "0512ca5c",
   "metadata": {},
   "source": [
    "#### Split Data"
   ]
  },
  {
   "cell_type": "code",
   "execution_count": 11,
   "id": "a7832646",
   "metadata": {},
   "outputs": [],
   "source": [
    "X_train, X_test, y_train, y_test = train_test_split(X, y, test_size = 0.2, random_state = 1212)"
   ]
  },
  {
   "cell_type": "code",
   "execution_count": 12,
   "id": "571b4b30",
   "metadata": {},
   "outputs": [],
   "source": [
    "no_set = y_train[y_train != 'setosa']\n",
    "no_ver = y_train[y_train != 'versicolor']\n",
    "no_vir = y_train[y_train != 'virginica']"
   ]
  },
  {
   "cell_type": "code",
   "execution_count": 13,
   "id": "eb3fda88",
   "metadata": {},
   "outputs": [],
   "source": [
    "x_no_set = X_train[y_train != 'setosa']\n",
    "x_no_ver = X_train[y_train != 'versicolor']\n",
    "x_no_vir = X_train[y_train != 'virginica']"
   ]
  },
  {
   "cell_type": "markdown",
   "id": "55359b71",
   "metadata": {},
   "source": [
    "#### Encoding Target"
   ]
  },
  {
   "cell_type": "code",
   "execution_count": 14,
   "id": "ca47c927",
   "metadata": {},
   "outputs": [],
   "source": [
    "enc_no_set = pd.get_dummies(no_set, drop_first = True, columns = 'Verginica')\n",
    "enc_no_ver = pd.get_dummies(no_ver, drop_first = True, columns = 'Verginica')\n",
    "enc_no_vir = pd.get_dummies(no_vir, drop_first = True, columns = 'Setosa')"
   ]
  },
  {
   "cell_type": "markdown",
   "id": "d120cfc5",
   "metadata": {},
   "source": [
    "#### Training Data"
   ]
  },
  {
   "cell_type": "code",
   "execution_count": 15,
   "id": "a055e22c",
   "metadata": {},
   "outputs": [],
   "source": [
    "svm_1_ovo = SVC(kernel = 'rbf', C = 5, gamma = 5)\n",
    "svm_2_ovo = SVC(kernel = 'rbf', C = 5, gamma = 5)\n",
    "svm_3_ovo = SVC(kernel = 'rbf', C = 5, gamma = 5)"
   ]
  },
  {
   "cell_type": "code",
   "execution_count": 16,
   "id": "6b011e79",
   "metadata": {},
   "outputs": [
    {
     "data": {
      "text/plain": [
       "SVC(C=5, gamma=5)"
      ]
     },
     "execution_count": 16,
     "metadata": {},
     "output_type": "execute_result"
    }
   ],
   "source": [
    "svm_1_ovo.fit(x_no_set, no_set)\n",
    "svm_2_ovo.fit(x_no_vir, no_vir)\n",
    "svm_3_ovo.fit(x_no_ver, no_ver)"
   ]
  },
  {
   "cell_type": "code",
   "execution_count": 22,
   "id": "40d19714",
   "metadata": {},
   "outputs": [],
   "source": [
    "def one_one_svm(models, data, labels):\n",
    "    result = []\n",
    "    \n",
    "    for model in models: \n",
    "        pred = model.predict(data)\n",
    "        result.append(pred)\n",
    "    \n",
    "    result = np.array(result).T \n",
    "    \n",
    "    pred = []\n",
    "    \n",
    "   \n",
    "    for row in range(len(result)):\n",
    "        score = np.array([0, 0, 0])\n",
    "        \n",
    "        if result[row][0] == 1: \n",
    "            score[1] += 1\n",
    "        elif result[row][0] == 0: \n",
    "            score[0] += 1\n",
    "            \n",
    "        if result[row][1] == 1: \n",
    "            score[2] += 1\n",
    "        elif result[row][1] == 0:\n",
    "            score[0] += 1\n",
    "            \n",
    "        if result[row][2] == 1: \n",
    "            score[2] += 1\n",
    "        elif result[row][2] == 0:\n",
    "            score[1] += 1\n",
    "    \n",
    "        pred.append(labels[score.argmax()]) \n",
    "    \n",
    "    \n",
    "    print(f\"prediction : \\n {result}\")\n",
    "    \n",
    "    return pred"
   ]
  },
  {
   "cell_type": "code",
   "execution_count": 23,
   "id": "2fced923",
   "metadata": {},
   "outputs": [
    {
     "name": "stdout",
     "output_type": "stream",
     "text": [
      "prediction : \n",
      " [['virginica' 'setosa' 'setosa']\n",
      " ['versicolor' 'versicolor' 'virginica']\n",
      " ['virginica' 'setosa' 'setosa']\n",
      " ['virginica' 'setosa' 'setosa']\n",
      " ['virginica' 'versicolor' 'virginica']\n",
      " ['virginica' 'versicolor' 'virginica']\n",
      " ['virginica' 'versicolor' 'virginica']\n",
      " ['virginica' 'setosa' 'setosa']\n",
      " ['versicolor' 'versicolor' 'virginica']\n",
      " ['versicolor' 'versicolor' 'virginica']\n",
      " ['virginica' 'setosa' 'setosa']\n",
      " ['virginica' 'versicolor' 'virginica']\n",
      " ['virginica' 'setosa' 'setosa']\n",
      " ['virginica' 'versicolor' 'virginica']\n",
      " ['virginica' 'versicolor' 'virginica']\n",
      " ['versicolor' 'versicolor' 'virginica']\n",
      " ['versicolor' 'versicolor' 'virginica']\n",
      " ['virginica' 'setosa' 'setosa']\n",
      " ['virginica' 'versicolor' 'virginica']\n",
      " ['virginica' 'setosa' 'setosa']\n",
      " ['versicolor' 'versicolor' 'virginica']\n",
      " ['virginica' 'setosa' 'virginica']\n",
      " ['virginica' 'setosa' 'setosa']\n",
      " ['versicolor' 'versicolor' 'virginica']\n",
      " ['versicolor' 'versicolor' 'virginica']\n",
      " ['virginica' 'setosa' 'setosa']\n",
      " ['virginica' 'versicolor' 'virginica']\n",
      " ['virginica' 'setosa' 'setosa']\n",
      " ['versicolor' 'versicolor' 'virginica']\n",
      " ['versicolor' 'versicolor' 'virginica']]\n"
     ]
    },
    {
     "data": {
      "text/plain": [
       "0.4"
      ]
     },
     "execution_count": 23,
     "metadata": {},
     "output_type": "execute_result"
    }
   ],
   "source": [
    "models = [svm_1_ovo, svm_2_ovo, svm_3_ovo]\n",
    "labels = ['setosa', 'versicolor', 'virginica']\n",
    "\n",
    "prediction = one_one_svm(models, X_test, labels)\n",
    "accuracy_score(y_test, prediction)"
   ]
  },
  {
   "cell_type": "markdown",
   "id": "87e54808",
   "metadata": {},
   "source": [
    "- 0.4로 낮은 성능이 나옴."
   ]
  }
 ],
 "metadata": {
  "kernelspec": {
   "display_name": "Python 3 (ipykernel)",
   "language": "python",
   "name": "python3"
  },
  "language_info": {
   "codemirror_mode": {
    "name": "ipython",
    "version": 3
   },
   "file_extension": ".py",
   "mimetype": "text/x-python",
   "name": "python",
   "nbconvert_exporter": "python",
   "pygments_lexer": "ipython3",
   "version": "3.8.12"
  }
 },
 "nbformat": 4,
 "nbformat_minor": 5
}
